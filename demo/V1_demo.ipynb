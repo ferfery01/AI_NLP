{
 "cells": [
  {
   "cell_type": "code",
   "execution_count": null,
   "metadata": {},
   "outputs": [],
   "source": [
    "from pprint import pprint\n",
    "\n",
    "import ipywidgets as widgets\n",
    "import torch\n",
    "import whisper\n",
    "from IPython.display import clear_output, display\n",
    "\n",
    "from unified_desktop import RESOURCES_DIR\n",
    "from unified_desktop.pipelines import UDSpeechRecognizer\n",
    "\n",
    "%load_ext autoreload\n",
    "%autoreload 2"
   ]
  },
  {
   "cell_type": "markdown",
   "metadata": {},
   "source": [
    "## Automatic Speech Recognition (ASR)"
   ]
  },
  {
   "cell_type": "code",
   "execution_count": null,
   "metadata": {},
   "outputs": [],
   "source": [
    "def update_asr_obj(change):\n",
    "    global asrObj\n",
    "    clear_output()\n",
    "    display(model_dropdown, device_dropdown)\n",
    "    asrObj = UDSpeechRecognizer(name=model_dropdown.value, device=device_dropdown.value)\n",
    "    print(f\"Loaded model: {model_dropdown.value} on device: {device_dropdown.value}\")\n",
    "\n",
    "\n",
    "# Dropdown for OpenAI Whisper models\n",
    "model_dropdown = widgets.Dropdown(\n",
    "    options=whisper.available_models(),\n",
    "    value=\"tiny.en\",\n",
    "    description=\"ModelName:\",\n",
    ")\n",
    "\n",
    "\n",
    "cuda_options = [torch.device(\"cuda\", idx) for idx in range(torch.cuda.device_count())]\n",
    "device_dropdown = widgets.Dropdown(\n",
    "    options=[\"cpu\"] + cuda_options,\n",
    "    value=\"cpu\",\n",
    "    description=\"Device:\",\n",
    ")\n",
    "\n",
    "# Attach the update function to the dropdown\n",
    "model_dropdown.observe(update_asr_obj, names=\"value\")\n",
    "device_dropdown.observe(update_asr_obj, names=\"value\")\n",
    "\n",
    "# Display the widgets and initialize asrObj\n",
    "display(model_dropdown, device_dropdown)\n",
    "asrObj = UDSpeechRecognizer(name=model_dropdown.value, device=device_dropdown.value)"
   ]
  },
  {
   "cell_type": "code",
   "execution_count": null,
   "metadata": {},
   "outputs": [],
   "source": [
    "# Audio file to transcribe\n",
    "audio_file = (\n",
    "    RESOURCES_DIR\n",
    "    / \"call-center-sample-en_US\"\n",
    "    / \"en_US_7a4f56d7-9aca-4ed5-96b9-9c9c36b8a3ac.wav\"\n",
    ")\n",
    "# Use fp16 if on CUDA, else fp32\n",
    "fp16 = device_dropdown.value in cuda_options\n",
    "\n",
    "# Transcribe the audio file\n",
    "transcribed_text = asrObj(audio_file, verbose=True, fp16=fp16)\n",
    "pprint(transcribed_text)"
   ]
  },
  {
   "cell_type": "code",
   "execution_count": null,
   "metadata": {},
   "outputs": [],
   "source": []
  }
 ],
 "metadata": {
  "kernelspec": {
   "display_name": "UnitedDesktop",
   "language": "python",
   "name": "python3"
  },
  "language_info": {
   "codemirror_mode": {
    "name": "ipython",
    "version": 3
   },
   "file_extension": ".py",
   "mimetype": "text/x-python",
   "name": "python",
   "nbconvert_exporter": "python",
   "pygments_lexer": "ipython3",
   "version": "3.10.13"
  }
 },
 "nbformat": 4,
 "nbformat_minor": 2
}
