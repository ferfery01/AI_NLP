{
 "cells": [
  {
   "cell_type": "code",
   "execution_count": null,
   "metadata": {},
   "outputs": [],
   "source": [
    "from pprint import pprint\n",
    "\n",
    "import ipywidgets as widgets\n",
    "import torch\n",
    "import whisper\n",
    "from IPython.display import Audio, clear_output, display\n",
    "\n",
    "from unified_desktop import RESOURCES_DIR\n",
    "from unified_desktop.core.utils.io_utils import get_matching_files_in_dir\n",
    "from unified_desktop.pipelines import UDSpeechEmotionRecognizer, UDSpeechRecognizer\n",
    "\n",
    "CUDA_OPTIONS = [torch.device(\"cuda\", idx) for idx in range(torch.cuda.device_count())]\n",
    "\n",
    "%load_ext autoreload\n",
    "%autoreload 2\n",
    "clear_output()"
   ]
  },
  {
   "cell_type": "markdown",
   "metadata": {},
   "source": [
    "## Automatic Speech Recognition (ASR)"
   ]
  },
  {
   "cell_type": "code",
   "execution_count": null,
   "metadata": {},
   "outputs": [],
   "source": [
    "def update_asr_obj(change):\n",
    "    global asrObj\n",
    "    clear_output()\n",
    "    display(model_dropdown, device_asr_dropdown)\n",
    "    asrObj = UDSpeechRecognizer(\n",
    "        name=model_dropdown.value, device=device_asr_dropdown.value\n",
    "    )\n",
    "    print(\n",
    "        f\"Loaded model: {model_dropdown.value} on device: {device_asr_dropdown.value}\"\n",
    "    )\n",
    "\n",
    "\n",
    "# Dropdown for OpenAI Whisper models\n",
    "model_dropdown = widgets.Dropdown(\n",
    "    options=whisper.available_models(),\n",
    "    value=\"tiny.en\",\n",
    "    description=\"ModelName:\",\n",
    ")\n",
    "device_asr_dropdown = widgets.Dropdown(\n",
    "    options=[\"cpu\"] + CUDA_OPTIONS,\n",
    "    value=\"cpu\",\n",
    "    description=\"Device:\",\n",
    ")\n",
    "\n",
    "# Attach the update function to the dropdown\n",
    "model_dropdown.observe(update_asr_obj, names=\"value\")\n",
    "device_asr_dropdown.observe(update_asr_obj, names=\"value\")\n",
    "\n",
    "# Display the widgets and initialize asrObj\n",
    "display(model_dropdown, device_asr_dropdown)\n",
    "asrObj = UDSpeechRecognizer(name=model_dropdown.value, device=device_asr_dropdown.value)"
   ]
  },
  {
   "cell_type": "code",
   "execution_count": null,
   "metadata": {},
   "outputs": [],
   "source": [
    "# Audio file to transcribe\n",
    "audio_file = (\n",
    "    RESOURCES_DIR\n",
    "    / \"call-center-sample-en_US\"\n",
    "    / \"en_US_7a4f56d7-9aca-4ed5-96b9-9c9c36b8a3ac.wav\"\n",
    ")\n",
    "audio = Audio(filename=audio_file)\n",
    "display(audio)\n",
    "\n",
    "# Use fp16 if on CUDA, else fp32\n",
    "fp16 = device_asr_dropdown.value in CUDA_OPTIONS\n",
    "\n",
    "# Transcribe the audio file\n",
    "transcribed_text = asrObj(audio_file, verbose=True, fp16=fp16)\n",
    "pprint(transcribed_text)"
   ]
  },
  {
   "cell_type": "markdown",
   "metadata": {},
   "source": [
    "## Speech Emotion Recognition (SER)"
   ]
  },
  {
   "cell_type": "code",
   "execution_count": null,
   "metadata": {},
   "outputs": [],
   "source": [
    "def update_ser_obj(change):\n",
    "    global serObj\n",
    "    clear_output()\n",
    "    display(device_ser_dropdown)\n",
    "    serObj = UDSpeechEmotionRecognizer(device=device_ser_dropdown.value)\n",
    "    print(f\"Loaded SER model on device: {device_ser_dropdown.value}\")\n",
    "\n",
    "\n",
    "device_ser_dropdown = widgets.Dropdown(\n",
    "    options=[\"cpu\"] + CUDA_OPTIONS,\n",
    "    value=\"cpu\",\n",
    "    description=\"Device:\",\n",
    ")\n",
    "\n",
    "# Attach the update function to the dropdown\n",
    "device_ser_dropdown.observe(update_ser_obj, names=\"value\")\n",
    "\n",
    "# Display the widgets and initialize serObj\n",
    "serObj = UDSpeechEmotionRecognizer(device=device_ser_dropdown.value)\n",
    "clear_output()\n",
    "display(device_ser_dropdown)"
   ]
  },
  {
   "cell_type": "code",
   "execution_count": null,
   "metadata": {},
   "outputs": [],
   "source": [
    "# Recognize the emotion in the audio file\n",
    "emotion_pred_per_audio = {}\n",
    "for audio_file in get_matching_files_in_dir(\n",
    "    RESOURCES_DIR / \"emotions-sample-en\", \"*.wav\"\n",
    "):\n",
    "    emotion_pred_per_audio[audio_file] = serObj(audio_file)\n",
    "    clear_output()\n",
    "\n",
    "# Display the audio file and the recognized emotion\n",
    "for audio_file, emotion_pred in emotion_pred_per_audio.items():\n",
    "    audio = Audio(filename=audio_file)\n",
    "    display(audio)\n",
    "    print(f\"Emotion: {emotion_pred.label}, Score: {emotion_pred.score:.3f}\")"
   ]
  },
  {
   "cell_type": "code",
   "execution_count": null,
   "metadata": {},
   "outputs": [],
   "source": []
  }
 ],
 "metadata": {
  "kernelspec": {
   "display_name": "UnitedDesktop",
   "language": "python",
   "name": "python3"
  },
  "language_info": {
   "codemirror_mode": {
    "name": "ipython",
    "version": 3
   },
   "file_extension": ".py",
   "mimetype": "text/x-python",
   "name": "python",
   "nbconvert_exporter": "python",
   "pygments_lexer": "ipython3",
   "version": "3.10.13"
  }
 },
 "nbformat": 4,
 "nbformat_minor": 2
}
