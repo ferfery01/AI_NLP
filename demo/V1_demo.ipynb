{
 "cells": [
  {
   "cell_type": "code",
   "execution_count": null,
   "metadata": {},
   "outputs": [],
   "source": [
    "import random\n",
    "from pprint import pprint\n",
    "\n",
    "import ipywidgets as widgets\n",
    "import pandas as pd\n",
    "import torch\n",
    "import whisper\n",
    "from IPython.display import clear_output, display\n",
    "\n",
    "from unified_desktop import RESOURCES_DIR\n",
    "from unified_desktop.pipelines import UDIntentClassification, UDSpeechRecognizer\n",
    "\n",
    "pd.options.display.max_colwidth = 100\n",
    "%load_ext autoreload\n",
    "%autoreload 2"
   ]
  },
  {
   "cell_type": "code",
   "execution_count": null,
   "metadata": {},
   "outputs": [],
   "source": [
    "# Cuda dropdown\n",
    "\n",
    "cuda_options = [torch.device(\"cuda\", idx) for idx in range(torch.cuda.device_count())]\n",
    "device_dropdown = widgets.Dropdown(\n",
    "    options=[\"cpu\"] + cuda_options,\n",
    "    value=\"cpu\",\n",
    "    description=\"Device:\",\n",
    ")"
   ]
  },
  {
   "attachments": {},
   "cell_type": "markdown",
   "metadata": {},
   "source": [
    "## Automatic Speech Recognition (ASR)"
   ]
  },
  {
   "cell_type": "code",
   "execution_count": null,
   "metadata": {},
   "outputs": [],
   "source": [
    "def update_asr_obj(change):\n",
    "    global asrObj\n",
    "    clear_output()\n",
    "    display(model_dropdown_ASR, device_dropdown)\n",
    "    asrObj = UDSpeechRecognizer(\n",
    "        name=model_dropdown_ASR.value, device=device_dropdown.value\n",
    "    )\n",
    "    print(\n",
    "        f\"Loaded model: {model_dropdown_ASR.value} on device: {device_dropdown.value}\"\n",
    "    )\n",
    "\n",
    "\n",
    "# Dropdown for OpenAI Whisper models\n",
    "model_dropdown_ASR = widgets.Dropdown(\n",
    "    options=whisper.available_models(),\n",
    "    value=\"tiny.en\",\n",
    "    description=\"ModelName:\",\n",
    ")\n",
    "\n",
    "# Attach the update function to the dropdown\n",
    "model_dropdown_ASR.observe(update_asr_obj, names=\"value\")\n",
    "device_dropdown.observe(update_asr_obj, names=\"value\")\n",
    "\n",
    "# Display the widgets and initialize asrObj\n",
    "display(model_dropdown_ASR, device_dropdown)\n",
    "asrObj = UDSpeechRecognizer(name=model_dropdown_ASR.value, device=device_dropdown.value)"
   ]
  },
  {
   "cell_type": "code",
   "execution_count": null,
   "metadata": {},
   "outputs": [],
   "source": [
    "# Audio file to transcribe\n",
    "audio_file = (\n",
    "    RESOURCES_DIR\n",
    "    / \"call-center-sample-en_US\"\n",
    "    / \"en_US_7a4f56d7-9aca-4ed5-96b9-9c9c36b8a3ac.wav\"\n",
    ")\n",
    "# Use fp16 if on CUDA, else fp32\n",
    "fp16 = device_dropdown.value in cuda_options\n",
    "\n",
    "# Transcribe the audio file\n",
    "transcribed_text = asrObj(audio_file, verbose=True, fp16=fp16)\n",
    "pprint(transcribed_text)"
   ]
  },
  {
   "attachments": {},
   "cell_type": "markdown",
   "metadata": {},
   "source": [
    "# Intent Detection"
   ]
  },
  {
   "cell_type": "code",
   "execution_count": null,
   "metadata": {},
   "outputs": [],
   "source": [
    "available_models = [\"vineetsharma/customer-support-intent-albert\", \"albert-base-v2\"]\n",
    "\n",
    "\n",
    "def model_obj(change):\n",
    "    global intentObj\n",
    "    clear_output()\n",
    "    display(model_dropdown_intent, device_dropdown)\n",
    "    intentObj = UDIntentClassification(\n",
    "        available_models,\n",
    "        name=model_dropdown_intent.value,\n",
    "        device=device_dropdown.value,\n",
    "    )\n",
    "    print(\n",
    "        f\"Loaded model: {model_dropdown_intent.value} on device: {device_dropdown.value}\"\n",
    "    )\n",
    "\n",
    "\n",
    "# Dropdown for intentDetection transformer models. More models will be added\n",
    "model_dropdown_intent = widgets.Dropdown(\n",
    "    options=available_models,\n",
    "    value=\"vineetsharma/customer-support-intent-albert\",\n",
    "    # value = \"albert-base-v2\",\n",
    "    description=\"ModelName:\",\n",
    ")\n",
    "\n",
    "# Attach the update function to the dropdown\n",
    "model_dropdown_intent.observe(model_obj, names=\"value\")\n",
    "device_dropdown.observe(model_obj, names=\"value\")\n",
    "\n",
    "# Display the widgets and initialize intentObj\n",
    "display(model_dropdown_intent, device_dropdown)\n",
    "intentObj = UDIntentClassification(\n",
    "    name=model_dropdown_intent.value,\n",
    "    device=device_dropdown.value,\n",
    ")"
   ]
  },
  {
   "cell_type": "code",
   "execution_count": null,
   "metadata": {},
   "outputs": [],
   "source": [
    "# Input text for intent detection\n",
    "excel_file = RESOURCES_DIR / \"input_text\" / \"textqueries.xlsx\"\n",
    "\n",
    "# Read the Excel file into a DataFrame\n",
    "df = pd.read_excel(excel_file)\n",
    "# Specify the row number (k) you want to select (replace with the desired row number)\n",
    "num_rows = df.shape[0]\n",
    "random_row_index = random.randint(0, num_rows - 1)\n",
    "selected_row = df.iloc[random_row_index]\n",
    "# Convert the selected row to a string\n",
    "intent_input = selected_row.to_string(index=False)\n",
    "\n",
    "# Display the selected row as a string\n",
    "print(f\"inpute query:\")\n",
    "print(intent_input, \"\\n\")\n",
    "\n",
    "# returns top_k predictions\n",
    "top_k = 2\n",
    "\n",
    "# Perform intent detection\n",
    "intent_results = intentObj(intent_input, top_k)\n",
    "print(intent_results)\n",
    "# Print the top-k predictions and their probabilities for the intent detection\n",
    "print(f\"Top-{top_k} Intent Predictions:\")\n",
    "print(\"------------------------------------------------------\")\n",
    "print(\"| Intent                    | Probability\")\n",
    "print(\"------------------------------------------------------\")\n",
    "for items in intent_results:\n",
    "    print(f\"| {items['label']:<25} | {items['score']:.4f}\")\n",
    "print(\"------------------------------------------------------\")"
   ]
  }
 ],
 "metadata": {
  "kernelspec": {
   "display_name": "UnitedDesktop",
   "language": "python",
   "name": "python3"
  },
  "language_info": {
   "codemirror_mode": {
    "name": "ipython",
    "version": 3
   },
   "file_extension": ".py",
   "mimetype": "text/x-python",
   "name": "python",
   "nbconvert_exporter": "python",
   "pygments_lexer": "ipython3",
   "version": "3.10.13"
  }
 },
 "nbformat": 4,
 "nbformat_minor": 2
}
