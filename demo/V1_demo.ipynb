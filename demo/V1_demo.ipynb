{
 "cells": [
  {
   "cell_type": "code",
   "execution_count": null,
   "metadata": {},
   "outputs": [],
   "source": [
    "import random\n",
    "from pprint import pprint\n",
    "\n",
    "import ipywidgets as widgets\n",
    "import pandas as pd\n",
    "import torch\n",
    "from IPython.display import Audio, clear_output, display\n",
    "from transformers import logging\n",
    "\n",
    "from unified_desktop import RESOURCES_DIR\n",
    "from unified_desktop.core.utils.io_utils import get_matching_files_in_dir\n",
    "from unified_desktop.pipelines import (\n",
    "    UDIntentClassifier,\n",
    "    UDKeyExtraction,\n",
    "    UDSentimentDetector,\n",
    "    UDSpeechEmotionRecognizer,\n",
    "    UDSpeechRecognizer,\n",
    "    UDSummarizer,\n",
    ")\n",
    "\n",
    "pd.options.display.max_colwidth = 100\n",
    "%load_ext autoreload\n",
    "%autoreload 2\n",
    "clear_output()"
   ]
  },
  {
   "cell_type": "code",
   "execution_count": null,
   "metadata": {},
   "outputs": [],
   "source": [
    "# Cuda dropdown\n",
    "CUDA_OPTIONS = [torch.device(\"cuda\", idx) for idx in range(torch.cuda.device_count())]\n",
    "device_dropdown = widgets.Dropdown(\n",
    "    options=[\"cpu\"] + CUDA_OPTIONS,\n",
    "    value=torch.device(\"cuda\", 0) if torch.cuda.is_available() else \"cpu\",\n",
    "    description=\"Device:\",\n",
    ")\n",
    "display(device_dropdown)"
   ]
  },
  {
   "attachments": {},
   "cell_type": "markdown",
   "metadata": {},
   "source": [
    "## Automatic Speech Recognition (ASR)"
   ]
  },
  {
   "cell_type": "code",
   "execution_count": null,
   "metadata": {},
   "outputs": [],
   "source": [
    "def update_asr_obj(change):\n",
    "    global asrObj\n",
    "    clear_output()\n",
    "    display(model_dropdown_ASR, device_dropdown)\n",
    "    asrObj = UDSpeechRecognizer(model_dropdown_ASR.value, device=device_dropdown.value)\n",
    "\n",
    "\n",
    "# Dropdown for OpenAI Whisper models\n",
    "model_dropdown_ASR = widgets.Dropdown(\n",
    "    options=UDSpeechRecognizer.available_models,\n",
    "    value=\"distil-whisper/distil-medium.en\",\n",
    "    description=\"ModelName:\",\n",
    ")\n",
    "\n",
    "# Attach the update function to the dropdown\n",
    "model_dropdown_ASR.observe(update_asr_obj, names=\"value\")\n",
    "device_dropdown.observe(update_asr_obj, names=\"value\")\n",
    "\n",
    "# Display the widgets and initialize asrObj\n",
    "display(model_dropdown_ASR)\n",
    "asrObj = UDSpeechRecognizer(model_dropdown_ASR.value, device=device_dropdown.value)"
   ]
  },
  {
   "cell_type": "code",
   "execution_count": null,
   "metadata": {},
   "outputs": [],
   "source": [
    "# Audio file to transcribe\n",
    "audio_file = (\n",
    "    RESOURCES_DIR\n",
    "    / \"call-center-sample-en_US\"\n",
    "    / \"en_US_7a4f56d7-9aca-4ed5-96b9-9c9c36b8a3ac.wav\"\n",
    ")\n",
    "audio = Audio(filename=audio_file)\n",
    "display(audio)\n",
    "\n",
    "# Transcribe the audio file\n",
    "transcribed_text = asrObj(audio_file)\n",
    "pprint(transcribed_text)"
   ]
  },
  {
   "cell_type": "markdown",
   "metadata": {},
   "source": [
    "## Speech Emotion Recognition (SER)"
   ]
  },
  {
   "cell_type": "code",
   "execution_count": null,
   "metadata": {},
   "outputs": [],
   "source": [
    "def update_ser_obj(change):\n",
    "    global serObj\n",
    "    serObj = UDSpeechEmotionRecognizer(device=device_dropdown.value)\n",
    "    clear_output()\n",
    "    display(device_dropdown)\n",
    "    print(f\"Loaded SER model on device: {device_dropdown.value}\")\n",
    "\n",
    "\n",
    "device_dropdown = widgets.Dropdown(\n",
    "    options=[\"cpu\"] + CUDA_OPTIONS,\n",
    "    value=\"cpu\",\n",
    "    description=\"Device:\",\n",
    ")\n",
    "\n",
    "# Attach the update function to the dropdown\n",
    "device_dropdown.observe(update_ser_obj, names=\"value\")\n",
    "\n",
    "# Display the widgets and initialize serObj\n",
    "serObj = UDSpeechEmotionRecognizer(device=device_dropdown.value)\n",
    "clear_output()\n",
    "display(device_dropdown)"
   ]
  },
  {
   "cell_type": "code",
   "execution_count": null,
   "metadata": {},
   "outputs": [],
   "source": [
    "# Recognize the emotion in the audio file\n",
    "emotion_pred_per_audio = {}\n",
    "for audio_file in get_matching_files_in_dir(\n",
    "    RESOURCES_DIR / \"emotions-sample-en\", \"*.wav\"\n",
    "):\n",
    "    emotion_pred_per_audio[audio_file] = serObj(audio_file)\n",
    "    clear_output()\n",
    "\n",
    "# Display the audio file and the recognized emotion\n",
    "for audio_file, emotion_pred in emotion_pred_per_audio.items():\n",
    "    audio = Audio(filename=audio_file)\n",
    "    display(audio)\n",
    "    print(f\"Emotion: {emotion_pred.label}, Score: {emotion_pred.score:.3f}\")"
   ]
  },
  {
   "attachments": {},
   "cell_type": "markdown",
   "metadata": {},
   "source": [
    "# Intent Detection"
   ]
  },
  {
   "cell_type": "code",
   "execution_count": null,
   "metadata": {},
   "outputs": [],
   "source": [
    "def update_intent_obj(change):\n",
    "    global intentObj\n",
    "    clear_output()\n",
    "    display(model_dropdown_intent, device_dropdown)\n",
    "    intentObj = UDIntentClassifier(\n",
    "        name=model_dropdown_intent.value, device=device_dropdown.value\n",
    "    )\n",
    "    print(\n",
    "        f\"Loaded model: {model_dropdown_intent.value} on device: {device_dropdown.value}\"\n",
    "    )\n",
    "\n",
    "\n",
    "# Dropdown for intentDetection transformer models. More models will be added\n",
    "model_dropdown_intent = widgets.Dropdown(\n",
    "    options=UDIntentClassifier.available_models,\n",
    "    value=\"vineetsharma/customer-support-intent-albert\",\n",
    "    description=\"ModelName:\",\n",
    ")\n",
    "\n",
    "# Attach the update function to the dropdown\n",
    "model_dropdown_intent.observe(update_intent_obj, names=\"value\")\n",
    "device_dropdown.observe(update_intent_obj, names=\"value\")\n",
    "\n",
    "# Display the widgets and initialize intentObj\n",
    "display(model_dropdown_intent)\n",
    "intentObj = UDIntentClassifier(\n",
    "    name=model_dropdown_intent.value,\n",
    "    device=device_dropdown.value,\n",
    ")"
   ]
  },
  {
   "cell_type": "code",
   "execution_count": null,
   "metadata": {},
   "outputs": [],
   "source": [
    "# Input text for intent detection\n",
    "excel_file = RESOURCES_DIR / \"input_text\" / \"textqueries.xlsx\"\n",
    "\n",
    "# Read the Excel file into a DataFrame\n",
    "df = pd.read_excel(excel_file)\n",
    "\n",
    "# Specify the row number (k) you want to select (replace with the desired row number)\n",
    "num_rows = df.shape[0]\n",
    "random_row_index = random.randint(0, num_rows - 1)\n",
    "selected_row = df.iloc[random_row_index]\n",
    "\n",
    "# Convert the selected row to a string\n",
    "intent_input = selected_row.to_string(index=False)\n",
    "\n",
    "# Display the selected row as a string\n",
    "print(f\"inpute query:\")\n",
    "print(intent_input, \"\\n\")\n",
    "\n",
    "# returns top_k predictions\n",
    "top_k = 2\n",
    "\n",
    "# Perform intent detection\n",
    "intent_results = intentObj(intent_input, top_k)\n",
    "\n",
    "# Print the top-k predictions and their probabilities for the intent detection\n",
    "print(f\"Top-{top_k} Intent Predictions:\")\n",
    "print(\"------------------------------------------------------\")\n",
    "print(\"| Intent                    | Probability\")\n",
    "print(\"------------------------------------------------------\")\n",
    "for items in intent_results:\n",
    "    print(f\"| {items['label']:<25} | {items['score']:.4f}\")\n",
    "print(\"------------------------------------------------------\")"
   ]
  },
  {
   "attachments": {},
   "cell_type": "markdown",
   "metadata": {},
   "source": [
    "# Keyword Detection"
   ]
  },
  {
   "cell_type": "code",
   "execution_count": null,
   "metadata": {},
   "outputs": [],
   "source": [
    "# available_models are the list of all transformer models\n",
    "# that works well for the Keyword Extraction purpose.\n",
    "# More will be added to the list after testing each one.\n",
    "\n",
    "available_models = [\"yanekyuk/bert-uncased-keyword-extractor\"]\n",
    "\n",
    "\n",
    "def update_key_obj(change):\n",
    "    global KeyObj\n",
    "    clear_output()\n",
    "    display(model_dropdown_key, device_dropdown)\n",
    "    KeyObj = UDKeyExtraction(\n",
    "        available_models,\n",
    "        name=model_dropdown_key.value,\n",
    "        device=device_dropdown.value,\n",
    "    )\n",
    "    print(\n",
    "        f\"Loaded model: {model_dropdown_key.value} on device: {device_dropdown.value}\"\n",
    "    )\n",
    "\n",
    "\n",
    "# Dropdown for UDKeyExtraction transformer models. More models will be added\n",
    "model_dropdown_key = widgets.Dropdown(\n",
    "    options=available_models,\n",
    "    value=\"yanekyuk/bert-uncased-keyword-extractor\",\n",
    "    description=\"ModelName:\",\n",
    ")\n",
    "\n",
    "# Attach the update function to the dropdown\n",
    "model_dropdown_key.observe(update_key_obj, names=\"value\")\n",
    "device_dropdown.observe(update_key_obj, names=\"value\")\n",
    "\n",
    "# Display the widgets and initialize keyObj\n",
    "display(model_dropdown_key)\n",
    "KeyObj = UDKeyExtraction(name=model_dropdown_key.value, device=device_dropdown.value)"
   ]
  },
  {
   "cell_type": "code",
   "execution_count": null,
   "metadata": {},
   "outputs": [],
   "source": [
    "# Input text for keywords extraction\n",
    "content_input = \"\"\"Googleeeeee is being investigated by the UK antitrust watchdog for \n",
    "its dominance in the 'ad tech stack,' the set of services that facilitate the sale of \n",
    "online advertising space between advertisers and sellers. Googleeeeee has strong positions \n",
    "at various levels of the ad tech stack and charges fees to both publishers and advertisers. \n",
    "A step back: UK Competition and Markets Authority has also been investigating whether Google \n",
    "and Meta colluded over ads, probing into the advertising agreement between the two companies, \n",
    "codenamed Jedi Blueeeeeee.\"\"\"\n",
    "\n",
    "# Display the selected row as a string\n",
    "print(f\"Input Query:\")\n",
    "print(content_input, \"\\n\")\n",
    "\n",
    "# Perform keywords extraction\n",
    "key_results = KeyObj(content_input)\n",
    "print(\"keywords extraction:\")\n",
    "print(\"------------------------------------------------------\")\n",
    "print(\"| index   | keyword               | Probability\")\n",
    "print(\"------------------------------------------------------\")\n",
    "\n",
    "for item in key_results:\n",
    "    print(f\"| {item['index']:<5} | {item['word']:<23} | {item['score']:.4f}\")\n",
    "\n",
    "print(\"------------------------------------------------------\")"
   ]
  },
  {
   "cell_type": "markdown",
   "metadata": {},
   "source": [
    "## Transcription Summarization"
   ]
  },
  {
   "cell_type": "code",
   "execution_count": null,
   "metadata": {},
   "outputs": [],
   "source": [
    "summarizer = UDSummarizer(device=device_dropdown.value)\n",
    "summary = summarizer(transcribed_text, max_length=50, min_length=30)\n",
    "print(summary)"
   ]
  },
  {
   "cell_type": "markdown",
   "metadata": {},
   "source": [
    "## Sentiment Detection"
   ]
  },
  {
   "cell_type": "code",
   "execution_count": null,
   "metadata": {},
   "outputs": [],
   "source": [
    "sentiment_obj = UDSentimentDetector()\n",
    "text_inputs = [\n",
    "    \"Thank you for your support\",\n",
    "    \"Thank you for going above and beyond to address my issues\",\n",
    "    \"I am calling regarding my prescriptions\",\n",
    "    \"I have been waiting in the phone line for 20 minutes\",\n",
    "    \"I am very dissapointed with this type of service\",\n",
    "]\n",
    "output_sentiment = [sentiment_obj(input_text=text_ele) for text_ele in text_inputs]\n",
    "print(*output_sentiment, sep=\"\\n\")"
   ]
  }
 ],
 "metadata": {
  "kernelspec": {
   "display_name": "UnitedDesktop",
   "language": "python",
   "name": "python3"
  },
  "language_info": {
   "codemirror_mode": {
    "name": "ipython",
    "version": 3
   },
   "file_extension": ".py",
   "mimetype": "text/x-python",
   "name": "python",
   "nbconvert_exporter": "python",
   "pygments_lexer": "ipython3",
   "version": "3.10.13"
  }
 },
 "nbformat": 4,
 "nbformat_minor": 2
}
